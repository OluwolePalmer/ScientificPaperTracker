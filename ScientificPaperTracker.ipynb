{
 "cells": [
  {
   "cell_type": "markdown",
   "id": "ea3b08b9-eb5c-4ad4-aa88-2624804119da",
   "metadata": {},
   "source": [
    "This is a simple Python program for research students to track scientific papers.\n",
    "                               \n",
    "- It uses an add_paper function to add brief information about a paper to the paper_data table\n",
    "- It uses the display_papers function to display the updated table at any given time\n",
    "\n",
    ">>>"
   ]
  },
  {
   "cell_type": "code",
   "execution_count": 1,
   "id": "2e6e810e-1d23-4005-a20b-9b6ed199eff7",
   "metadata": {},
   "outputs": [
    {
     "name": "stdout",
     "output_type": "stream",
     "text": [
      "No papers recorded yet.\n"
     ]
    }
   ],
   "source": [
    "import pandas as pd\n",
    "\n",
    "# Initialize an empty DataFrame to store the papers\n",
    "columns = ['Title', 'Year', 'Research Area', 'Link', 'Number of Authors', 'Authors']\n",
    "paper_data = pd.DataFrame(columns=columns)\n",
    "\n",
    "# Function to add a scientific paper's details to the table\n",
    "def add_paper(title, year, research_area, link, num_authors, *authors):\n",
    "    \"\"\"\n",
    "    Adds the details of a scientific paper to the global DataFrame `paper_data`.\n",
    "\n",
    "    Args:\n",
    "    - title (str): The title of the paper.\n",
    "    - year (int): The publication year of the paper.\n",
    "    - research_area (str): The research area or field to which the paper belongs.\n",
    "    - link (str): The URL or link to the paper.\n",
    "    - num_authors (int): The number of authors involved in the paper.\n",
    "    - *authors (str): Names of the authors, passed as multiple string arguments.\n",
    "\n",
    "    \"\"\"\n",
    "            \n",
    "    # Create a new row with the paper's details\n",
    "    new_paper = {\n",
    "        'Title': title,\n",
    "        'Year': year,\n",
    "        'Research Area': research_area,\n",
    "        'Link': link,\n",
    "        'Number of Authors': num_authors,\n",
    "        'Authors': authors}\n",
    "    \n",
    "    # Append the new row to the DataFrame\n",
    "    global paper_data\n",
    "    paper_data = pd.concat([paper_data, pd.DataFrame([new_paper])], ignore_index=True)\n",
    "    print(f\"Paper '{title}' added successfully.\")\n",
    "\n",
    "# Function to display all recorded scientific papers\n",
    "def display_papers():\n",
    "    \"\"\"Displays the currently stored scientific papers in the global DataFrame `paper_data`.\"\"\"\n",
    "    global paper_data\n",
    "    if paper_data.empty:\n",
    "        print(\"No papers recorded yet.\")\n",
    "    else:\n",
    "        return paper_data\n",
    "\n",
    "# Display the recorded papers\n",
    "display_papers()"
   ]
  },
  {
   "cell_type": "code",
   "execution_count": 2,
   "id": "7f5e3b32-c89d-4829-9b6c-69e580cf5a4e",
   "metadata": {},
   "outputs": [
    {
     "name": "stdout",
     "output_type": "stream",
     "text": [
      "Paper 'AI In Healthcare' added successfully.\n",
      "Paper 'Fraud Detection Using Deep Learning' added successfully.\n"
     ]
    }
   ],
   "source": [
    "# Example usage:\n",
    "add_paper('AI In Healthcare', 2024, 'AI/ML', 'https://google.com', 1, 'Fawad Hussein')\n",
    "add_paper('Fraud Detection Using Deep Learning', 2022, 'DL', 'https://google.com', 2, 'Kendrick Assan', 'Fawad Hussein')"
   ]
  },
  {
   "cell_type": "code",
   "execution_count": 3,
   "id": "c3f96d60-6431-481c-bdd9-6b769ca8a054",
   "metadata": {},
   "outputs": [
    {
     "data": {
      "text/html": [
       "<div>\n",
       "<style scoped>\n",
       "    .dataframe tbody tr th:only-of-type {\n",
       "        vertical-align: middle;\n",
       "    }\n",
       "\n",
       "    .dataframe tbody tr th {\n",
       "        vertical-align: top;\n",
       "    }\n",
       "\n",
       "    .dataframe thead th {\n",
       "        text-align: right;\n",
       "    }\n",
       "</style>\n",
       "<table border=\"1\" class=\"dataframe\">\n",
       "  <thead>\n",
       "    <tr style=\"text-align: right;\">\n",
       "      <th></th>\n",
       "      <th>Title</th>\n",
       "      <th>Year</th>\n",
       "      <th>Research Area</th>\n",
       "      <th>Link</th>\n",
       "      <th>Number of Authors</th>\n",
       "      <th>Authors</th>\n",
       "    </tr>\n",
       "  </thead>\n",
       "  <tbody>\n",
       "    <tr>\n",
       "      <th>0</th>\n",
       "      <td>AI In Healthcare</td>\n",
       "      <td>2024</td>\n",
       "      <td>AI/ML</td>\n",
       "      <td>https://google.com</td>\n",
       "      <td>1</td>\n",
       "      <td>(Fawad Hussein,)</td>\n",
       "    </tr>\n",
       "    <tr>\n",
       "      <th>1</th>\n",
       "      <td>Fraud Detection Using Deep Learning</td>\n",
       "      <td>2022</td>\n",
       "      <td>DL</td>\n",
       "      <td>https://google.com</td>\n",
       "      <td>2</td>\n",
       "      <td>(Kendrick Assan, Fawad Hussein)</td>\n",
       "    </tr>\n",
       "  </tbody>\n",
       "</table>\n",
       "</div>"
      ],
      "text/plain": [
       "                                 Title  Year Research Area  \\\n",
       "0                     AI In Healthcare  2024         AI/ML   \n",
       "1  Fraud Detection Using Deep Learning  2022            DL   \n",
       "\n",
       "                 Link Number of Authors                          Authors  \n",
       "0  https://google.com                 1                 (Fawad Hussein,)  \n",
       "1  https://google.com                 2  (Kendrick Assan, Fawad Hussein)  "
      ]
     },
     "execution_count": 3,
     "metadata": {},
     "output_type": "execute_result"
    }
   ],
   "source": [
    "# Display the updated table\n",
    "display_papers()"
   ]
  }
 ],
 "metadata": {
  "kernelspec": {
   "display_name": "Python 3 (ipykernel)",
   "language": "python",
   "name": "python3"
  },
  "language_info": {
   "codemirror_mode": {
    "name": "ipython",
    "version": 3
   },
   "file_extension": ".py",
   "mimetype": "text/x-python",
   "name": "python",
   "nbconvert_exporter": "python",
   "pygments_lexer": "ipython3",
   "version": "3.11.7"
  }
 },
 "nbformat": 4,
 "nbformat_minor": 5
}
